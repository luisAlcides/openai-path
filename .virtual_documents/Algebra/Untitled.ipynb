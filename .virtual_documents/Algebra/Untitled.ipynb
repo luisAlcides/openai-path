import numpy as np





A = np.array([2, 3])
B = np.array([7, 8])
C = np.array([4, 10])

# Compute travel vectors
# Find the vector from Drone A -> Drone B, and from A -> C
# Formula: AB = B-A,  AC= C-A
AB = B-A
AC = C-A
print("AB: ", AB)
print("AC: ", AC)

# Normalize travel directions
# Create unit vectors for both AB and AC so that the drones know ther travel direction only (ignoring distance)
magAB = np.linalg.norm(AB)
unitAB = AB / magAB

magAC = np.linalg.norm(AC)
unitAC = AC/magAC

print("unitAB: ", unitAB)
print("unitAC: ", unitAC)

# Scale travel to fixed speed
# Suppose drone must always move with speed = 5 units per step.
# Rescale the unit vectors to magnitude 5

def set_magnitude(v, mag, eps=1e-12):
    norm = np.linalg.norm(v)
    if norm < eps:
        raise ValueError("Non zero")
     return (v/norm) * mag   



