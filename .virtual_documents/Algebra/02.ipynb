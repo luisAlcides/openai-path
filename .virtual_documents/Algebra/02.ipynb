import numpy as np


s = 2
v = np.array([3, 6])
s+v





A = np.array([[1, 2, 3], [4, 5, 6]])

print("A =\n", A)
print("A^T =\n", A.T)





u = np.array([60, 62, 59])
print(u)
print()
print(u.T.shape)
print(u.T)





u = np.array([2, 3, 1])
v = np.array([4, -1, 2])

transpose = sum(u.T * v)
print(transpose)





A = np.array([[70, 30, 0.4], [72, 29, 0.5], [68, 31, 0.3], [71, 32, 0.6]])
print(A)


A.T





u = np.array([2, 3])
v = np.array([1, 4])
w = np.array([5, -1])


lhs = np.dot(u, v + w)
rhs = np.dot(u, v) + np.dot(u, w)

print("LHS:", lhs)
print("RHS:", rhs)
print("Equal?", np.isclose(lhs, rhs))


u = np.array([3,4])
v = np.array([1, 2])
w = np.array([2, -1])
c = 2

print("Commutative:", np.dot(u, v), np.dot(v, u))
print("Distributive: ", np.dot(u, v+w), np.dot(u, v) + np.dot(u, w))
print("Scalar associativity: ", np.dot(c*u, v), c*np.dot(u, v))
print("Zero vector: ", np.dot(u, np.zeros_like(u)))
print("Self-dot = || u ||^2 ", np.dot(u,u), np.linalg.norm(u)**2)


import math
theta_rad = np.arccos(-10/math.sqrt(221))
theta_deg = np.degrees(theta_rad)
theta_deg


15/4





u = np.array([3, -1])
v = np.array([2, 4])

uv = u + v
umv = u - v

print("u+v = ", uv)
print("u-v = ", umv)





u = np.array([6, 2, -3])

mag = np.linalg.norm(u)
unit = u/mag

print("Magnitude = ", mag)
print("Unite Vectors =", unit)





u = np.array([2, 3])
v = np.array([1, -4])

dot = np.dot(u, v)
theta = np.arccos(dot/(np.linalg.norm(u)*np.linalg.norm(v)))
print("Dot: ", dot)
print("Angle (deg): ", np.degrees(theta))





u = np.array([1, 2])
v = np.array([3, 4])
w = np.array([5, -1])
c = 2

# Commutativity
com = u*v
comv = v*u

print("u*v = v * u = ", com, comv) 

# Distributivity
dis = np.dot(u, (v+w))
dis2 = np.dot(u, v) + np.dot(u, w)
print("u * (v + w) = u * v + u * w -> ", dis, dis2) 

# Scalar associativity
scalar = (c*u)*v
scalar2 = c*(u*v)
print("(cu) * v = c (u*v)", scalar, scalar2)

# self dot u * u = || u || 
uu = np.dot(u, u)
print("u * u = ", uu)

unorm = (np.linalg.norm(u))**2
print("|| u || = ", unorm)





u = np.array([3, 4])
v = np.array([5, 0])

scalar_proj = np.dot(u, v) / np.linalg.norm(v)
vector_proj = (np.dot(u, v) / np.dot(v, v)) *v

print("Scalar proj: ", scalar_proj)
print("Vector proj: ", vector_proj)





A = np.array([[1,2,3], [4,5,6]])
print("A^T:\n", A.T)





A = np.array([[1, 2, 3], [4, 5, 6]])
b = np.array([10, 20, 30])

print("A+b:\n", A+b)





A = np.array([[1, 2], [3,4]])
B = np.array([[5, 6], [7, 8]])
print("Hadamard:\n", A*B)
print("np.dot():\n", np.dot(A, B))
print("@:\n", A@B)





u = np.array([1, 2])
v = np.array([3, 4, 5])

print("Outer product:\n", np.outer(u,v))





u = np.array([3, 4])
v = np.array([4, 0])

u_parallel = (np.dot(u, v)/np.dot(u, v))*v
u_perp = u - u_parallel

print("u_parallel: ", u_parallel)
print("u_perp:", u_perp)
print("Check orthogonal:", np.dot(u_parallel, u_perp))



