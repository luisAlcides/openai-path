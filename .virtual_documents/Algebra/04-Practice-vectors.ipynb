import numpy as np
import math as mt





def norm(u):
    value = 0
    response = 0
    for i in range(u.size):
        value += (u[i])**2
    response = mt.sqrt(value)
    return response

def norm2(u):
    return np.sqrt(np.sum(u**2))

u = np.array([12, -9, 15])
nor = norm(u)
print(nor)
print(np.linalg.norm(u))
print(norm2(u))


np.size?





def unitvector(u):
    norm = np.linalg.norm(u)
    if norm == 0:
        raise ValueError("Zero vector has no direction, so it has no unit vector")
    return u / norm


u = np.array([3, 4])

print(unitvector(u))
print(unitvector([0, 0]))





import numpy as np

def set_magnitude(v, mag, eps=1e-12):
    norm = np.linalg.norm(v)
    if norm < eps:
        raise ValueError("Zero vector has no direction, cannot rescale")
    return (v/norm) * mag

u = np.array([3, 4])
v10 = set_magnitude(u, 10)
print("New vector: ", v10)
print("Magnitude: ", np.linalg.norm(v10))


u = np.array([1, 1, 1])
rescale = set_magnitude(u, 7)
print("1. Rescale: \n", rescale)


u = np.array([-2, 5])
rescaling = set_magnitude(u, 3)
print("2. Rescaling:\n", rescaling) 


u = np.array([0, 0, 0])
zeros = set_magnitude(u)
print(zeros)





u = np.array([1,2,3])
print(u)


u.T


def row_to_col(row):
    # ensure row is 1D
    row = np.array(row)
    n = row.shape[0]
    print("n = row.shape[0]: ", row.shape[0])

    # create empty column vector
    col = np.zeros((n,1))
    print("col = np.zeros((n+1)): ", np.zeros((n+1)))

    # fill it using a for loop
    for i in range(n):
        col[i, 0] = row[i]

    return col


# example
row_vec = [1, 2, 3, 4]
col_vec = row_to_col(row_vec)

print("Row vector:", row_vec)
print("Column vector:\n", col_vec)


row = np.array([1,2,3])
print(row)
col = row.reshape(-1, 1)
print(col)
col = np.array([[1, 2, 3]]).T
print(col)


# Feature vector vs dataset
person = np.array([25, 175, 70])
print("Shape: ", person.shape)
print(person)


#As a row (1 sample, 3 features)
row = person.reshape(1, -1)
print("Row shape:", row.shape) 
print(row)


# As a column (3 samples, 1 feature each)
col = person.reshape(-1, 1)
print("Col shape:", col.shape)
print(col)



# Let's compute BMI (Body Mass Index) as a linear model:
# BMI = w * x
x = np.array([25, 175, 70])
w = np.array([0, 0.01, 0.1])

# dot product (vector form)
bmi1 = np.dot(w, x)

# Matrxi multiplication (requires row vs col awareness)
bmi2 = w.reshape(1, -1) @ x.reshape(-1, 1)
bmi3 = x * w
bmi4 = x @ w

print("Dot product:", bmi1)
print("Matrix mult:", bmi2)
print(bmi3)
print(bmi4)


# Transpose in real data
# Say you have sales over 3 months for 2 stores

sales = np.array([[100, 200, 150], [80, 120, 100]])
print("Shape: ", sales.shape)
print(sales)


sales_T = sales.T
print("Shape: ", sales_T.shape)
print(sales_T)



