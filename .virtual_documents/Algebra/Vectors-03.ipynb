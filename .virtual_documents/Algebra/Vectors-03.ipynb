import numpy as np


asList = [1,2,3]
asArray = np.array([1,2,3])
rowVec = np.array([[1,2,3]])
colvec = np.array([[1], [2], [3]])

print(f'asList: {np.shape(asList)}')
print(f'asArray: {asArray.shape}')
print(f'rowVec: {rowVec.shape}')
print(f'colVec: {colvec.shape}')
                          





v = np.array([4, 5, 6])
w = np.array([10, 20, 30])
u = np.array([0, 3, 6, 9])
vPluW = v+w
print(vPluW)
uPlusW = u+w # error! dimensions mismatched!


v = np.array([4, 5, 6])
w = np.array([[10, 20, 30]]).T

print(v)
print(w)
v+w






asArray = np.array([1,2,3])
print(asArray.shape)

# Row vector
rowVec = np.array([[1,2,3]])
print(rowVec.shape)

# Column vector
colVec = np.array([[1], [2], [3]])
print(colVec.shape)


v = np.array([4, 5, 6])
w = np.array([10, 20, 30])

vPlusW = v + w
print(vPlusW)





u = np.array([4, 5, 6])
v = np.array([10, 20, 30])

uMinusV = u - v
print(uMinusV)





u = np.array([4, 5, 6])
v = np.array([[10, 20, 30]]).T

print(u)
print("\n")
print(np.array([[10, 20, 30]]))
print("\n")
print(v)
print("\n")
print("Shapes: ", u.shape, v.shape)
print(u+v)





u = np.array([3, -1, 2])
v = np.array([5, 4, -3])

uPlusV = u + v
uMinusV = u - v

print("u + v = ", uPlusV)
print("u - v = ", uMinusV)





 import math
math.sqrt(49)


w = np.array([6, 2, -3])
mag = np.linalg.norm(w)
unit = w / mag

print("w = ", w)
print("mag = ", mag)
print("unit = ", unit)



math.sqrt(13)



