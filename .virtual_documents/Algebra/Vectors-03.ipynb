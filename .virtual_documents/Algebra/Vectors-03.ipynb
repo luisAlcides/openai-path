import numpy as np


asList = [1,2,3]
asArray = np.array([1,2,3])
rowVec = np.array([[1,2,3]])
colvec = np.array([[1], [2], [3]])

print(f'asList: {np.shape(asList)}')
print(f'asArray: {asArray.shape}')
print(f'rowVec: {rowVec.shape}')
print(f'colVec: {colvec.shape}')
                          





v = np.array([4, 5, 6])
w = np.array([10, 20, 30])
u = np.array([0, 3, 6, 9])
vPluW = v+w
print(vPluW)
uPlusW = u+w # error! dimensions mismatched!


v = np.array([4, 5, 6])
w = np.array([[10, 20, 30]]).T

print(v)
print(w)
v+w






asArray = np.array([1,2,3])
print(asArray.shape)

# Row vector
rowVec = np.array([[1,2,3]])
print(rowVec.shape)

# Column vector
colVec = np.array([[1], [2], [3]])
print(colVec.shape)


v = np.array([4, 5, 6])
w = np.array([10, 20, 30])

vPlusW = v + w
print(vPlusW)





u = np.array([4, 5, 6])
v = np.array([10, 20, 30])

uMinusV = u - v
print(uMinusV)





u = np.array([4, 5, 6])
v = np.array([[10, 20, 30]]).T

print(u)
print("\n")
print(np.array([[10, 20, 30]]))
print("\n")
print(v)
print("\n")
print("Shapes: ", u.shape, v.shape)
print(u+v)





u = np.array([3, -1, 2])
v = np.array([5, 4, -3])

uPlusV = u + v
uMinusV = u - v

print("u + v = ", uPlusV)
print("u - v = ", uMinusV)





 import math
math.sqrt(49)


w = np.array([6, 2, -3])
mag = np.linalg.norm(w)
unit = w / mag

print("w = ", w)
print("mag = ", mag)
print("unit = ", unit)



np.degrees(np.arccos(-10/(math.sqrt(13) * math.sqrt(18))))





u = np.array([2, 3])
v = np.array([1, -4])

dot = np.dot(u, v)

norm_u = np.linalg.norm(u)
norm_v = np.linalg.norm(v)

cos_theta = dot / (norm_u * norm_v)

theta_rad = np.arccos(cos_theta)
theta_deg = np.degrees(theta_rad)


print("u · v =", dot)
print("||u|| =", norm_u)
print("||v|| =", norm_v)
print("cos(theta) =", cos_theta)
print("theta (radians) =", theta_rad)
print("theta (degrees) =", theta_deg)





u = np.array([2, 3], dtype=float)
v = np.array([1, -4], dtype=float)

# parallel component of u onto v
u_par = (np.dot(u, v) / np.dot(v, v)) * v

# perpendicular component
u_perp = u - u_par

print("u_parallel:", u_par)
print("u_perp    :", u_perp)

# check orthogonality (should be)
print("u_parallel * u_perp =", np.dot(u_par, u_perp))


def orthogonal_decompose(u, v):
    u = np.asarray(u, dtype=float)
    v = np.asarray(v, dtype=float)
    vv = np.dot(v, v)
    if vv == 0:
        raise ValueError("Direction vector v must be nonzero for projection")
    u_par = (np.dot(u, v) / vv) * v
    u_perp = u - u_par
    return u_par, u_perp

u_par, u_perp = orthogonal_decompose([2,3], [1, -4])
print("u_parallel:", u_par)
print("u_perp    :", u_perp)
print("Check dot: ", np.dot(u_par, u_perp))


u_par, u_perp = orthogonal_decompose([3, 4], [4, 0])
print("u_parallel:", u_par)
print("u_perp    :", u_perp)
print("check dot: ", np.dot(u_par, u_perp))


u_par +u_perp



