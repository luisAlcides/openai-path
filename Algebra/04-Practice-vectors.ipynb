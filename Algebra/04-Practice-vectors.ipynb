{
 "cells": [
  {
   "cell_type": "code",
   "execution_count": 1,
   "id": "f845b61a-6026-4101-a7b5-aa9d6d9c2680",
   "metadata": {},
   "outputs": [],
   "source": [
    "import numpy as np\n",
    "import math as mt"
   ]
  },
  {
   "cell_type": "markdown",
   "id": "d1da8aed-3f7d-48a5-ac88-121442a4160d",
   "metadata": {},
   "source": [
    "### Excercise 2-2\n",
    "Write an algorithm that computes the norm of a vector by translating equation 2-7\n",
    "into code. Confirm, using random vectors with different dimensionalities and orientations\n",
    "that you get the same result as np.linalg.norm(). This excercise is designed to give\n",
    "you more experience with indexing numpy arrays and translating formulas into code;\n",
    "in practice, it's often easier to use np.linalg.norm"
   ]
  },
  {
   "cell_type": "code",
   "execution_count": 19,
   "id": "5369015c-9415-4f4d-9866-8f35922caade",
   "metadata": {},
   "outputs": [
    {
     "name": "stdout",
     "output_type": "stream",
     "text": [
      "21.213203435596427\n",
      "21.213203435596427\n",
      "21.213203435596427\n"
     ]
    }
   ],
   "source": [
    "def norm(u):\n",
    "    value = 0\n",
    "    response = 0\n",
    "    for i in range(u.size):\n",
    "        value += (u[i])**2\n",
    "    response = mt.sqrt(value)\n",
    "    return response\n",
    "\n",
    "def norm2(u):\n",
    "    return np.sqrt(np.sum(u**2))\n",
    "\n",
    "u = np.array([12, -9, 15])\n",
    "nor = norm(u)\n",
    "print(nor)\n",
    "print(np.linalg.norm(u))\n",
    "print(norm2(u))"
   ]
  },
  {
   "cell_type": "code",
   "execution_count": 20,
   "id": "534f8d67-8f49-4f76-bf4f-2a185d010a03",
   "metadata": {},
   "outputs": [
    {
     "data": {
      "text/plain": [
       "\u001b[1;31mSignature:\u001b[0m       \u001b[0mnp\u001b[0m\u001b[1;33m.\u001b[0m\u001b[0msize\u001b[0m\u001b[1;33m(\u001b[0m\u001b[0ma\u001b[0m\u001b[1;33m,\u001b[0m \u001b[0maxis\u001b[0m\u001b[1;33m=\u001b[0m\u001b[1;32mNone\u001b[0m\u001b[1;33m)\u001b[0m\u001b[1;33m\u001b[0m\u001b[1;33m\u001b[0m\u001b[0m\n",
       "\u001b[1;31mCall signature:\u001b[0m  \u001b[0mnp\u001b[0m\u001b[1;33m.\u001b[0m\u001b[0msize\u001b[0m\u001b[1;33m(\u001b[0m\u001b[1;33m*\u001b[0m\u001b[0margs\u001b[0m\u001b[1;33m,\u001b[0m \u001b[1;33m**\u001b[0m\u001b[0mkwargs\u001b[0m\u001b[1;33m)\u001b[0m\u001b[1;33m\u001b[0m\u001b[1;33m\u001b[0m\u001b[0m\n",
       "\u001b[1;31mType:\u001b[0m            _ArrayFunctionDispatcher\n",
       "\u001b[1;31mString form:\u001b[0m     <function size at 0x0000022CF2182F20>\n",
       "\u001b[1;31mFile:\u001b[0m            c:\\users\\cqti\\anaconda3\\lib\\site-packages\\numpy\\_core\\fromnumeric.py\n",
       "\u001b[1;31mDocstring:\u001b[0m      \n",
       "Return the number of elements along a given axis.\n",
       "\n",
       "Parameters\n",
       "----------\n",
       "a : array_like\n",
       "    Input data.\n",
       "axis : int, optional\n",
       "    Axis along which the elements are counted.  By default, give\n",
       "    the total number of elements.\n",
       "\n",
       "Returns\n",
       "-------\n",
       "element_count : int\n",
       "    Number of elements along the specified axis.\n",
       "\n",
       "See Also\n",
       "--------\n",
       "shape : dimensions of array\n",
       "ndarray.shape : dimensions of array\n",
       "ndarray.size : number of elements in array\n",
       "\n",
       "Examples\n",
       "--------\n",
       ">>> import numpy as np\n",
       ">>> a = np.array([[1,2,3],[4,5,6]])\n",
       ">>> np.size(a)\n",
       "6\n",
       ">>> np.size(a,1)\n",
       "3\n",
       ">>> np.size(a,0)\n",
       "2\n",
       "\u001b[1;31mClass docstring:\u001b[0m\n",
       "Class to wrap functions with checks for __array_function__ overrides.\n",
       "\n",
       "All arguments are required, and can only be passed by position.\n",
       "\n",
       "Parameters\n",
       "----------\n",
       "dispatcher : function or None\n",
       "    The dispatcher function that returns a single sequence-like object\n",
       "    of all arguments relevant.  It must have the same signature (except\n",
       "    the default values) as the actual implementation.\n",
       "    If ``None``, this is a ``like=`` dispatcher and the\n",
       "    ``_ArrayFunctionDispatcher`` must be called with ``like`` as the\n",
       "    first (additional and positional) argument.\n",
       "implementation : function\n",
       "    Function that implements the operation on NumPy arrays without\n",
       "    overrides.  Arguments passed calling the ``_ArrayFunctionDispatcher``\n",
       "    will be forwarded to this (and the ``dispatcher``) as if using\n",
       "    ``*args, **kwargs``.\n",
       "\n",
       "Attributes\n",
       "----------\n",
       "_implementation : function\n",
       "    The original implementation passed in."
      ]
     },
     "metadata": {},
     "output_type": "display_data"
    }
   ],
   "source": [
    "np.size?"
   ]
  },
  {
   "cell_type": "markdown",
   "id": "afef30a1-e5f3-4c77-b87f-2f77be36254a",
   "metadata": {},
   "source": [
    "### Excercise 2-3\n",
    "Create a python function that will take a vector as input and output a unit vector in the same direction. What happens when you input the zeros vector?"
   ]
  },
  {
   "cell_type": "code",
   "execution_count": 28,
   "id": "62cd2adc-a854-4292-beb8-6b63a523606b",
   "metadata": {},
   "outputs": [
    {
     "name": "stdout",
     "output_type": "stream",
     "text": [
      "[0.6 0.8]\n"
     ]
    },
    {
     "ename": "ValueError",
     "evalue": "Zero vector has no direction, so it has no unit vector",
     "output_type": "error",
     "traceback": [
      "\u001b[1;31m---------------------------------------------------------------------------\u001b[0m",
      "\u001b[1;31mValueError\u001b[0m                                Traceback (most recent call last)",
      "Cell \u001b[1;32mIn[28], line 11\u001b[0m\n\u001b[0;32m      8\u001b[0m u \u001b[38;5;241m=\u001b[39m np\u001b[38;5;241m.\u001b[39marray([\u001b[38;5;241m3\u001b[39m, \u001b[38;5;241m4\u001b[39m])\n\u001b[0;32m     10\u001b[0m \u001b[38;5;28mprint\u001b[39m(unitvector(u))\n\u001b[1;32m---> 11\u001b[0m \u001b[38;5;28mprint\u001b[39m(unitvector([\u001b[38;5;241m0\u001b[39m, \u001b[38;5;241m0\u001b[39m]))\n",
      "Cell \u001b[1;32mIn[28], line 4\u001b[0m, in \u001b[0;36munitvector\u001b[1;34m(u)\u001b[0m\n\u001b[0;32m      2\u001b[0m norm \u001b[38;5;241m=\u001b[39m np\u001b[38;5;241m.\u001b[39mlinalg\u001b[38;5;241m.\u001b[39mnorm(u)\n\u001b[0;32m      3\u001b[0m \u001b[38;5;28;01mif\u001b[39;00m norm \u001b[38;5;241m==\u001b[39m \u001b[38;5;241m0\u001b[39m:\n\u001b[1;32m----> 4\u001b[0m     \u001b[38;5;28;01mraise\u001b[39;00m \u001b[38;5;167;01mValueError\u001b[39;00m(\u001b[38;5;124m\"\u001b[39m\u001b[38;5;124mZero vector has no direction, so it has no unit vector\u001b[39m\u001b[38;5;124m\"\u001b[39m)\n\u001b[0;32m      5\u001b[0m \u001b[38;5;28;01mreturn\u001b[39;00m u \u001b[38;5;241m/\u001b[39m norm\n",
      "\u001b[1;31mValueError\u001b[0m: Zero vector has no direction, so it has no unit vector"
     ]
    }
   ],
   "source": [
    "def unitvector(u):\n",
    "    norm = np.linalg.norm(u)\n",
    "    if norm == 0:\n",
    "        raise ValueError(\"Zero vector has no direction, so it has no unit vector\")\n",
    "    return u / norm\n",
    "\n",
    "\n",
    "u = np.array([3, 4])\n",
    "\n",
    "print(unitvector(u))\n",
    "print(unitvector([0, 0]))"
   ]
  },
  {
   "cell_type": "markdown",
   "id": "02294776-60a1-40af-bd0b-8735ba4927e8",
   "metadata": {},
   "source": [
    "### Excercise 2-4\n",
    "You know how to create unit vectors; what if you want to create a vector of any arbitrary magnitude? Write a python function that will take a vector\n",
    "and a desired magnitude as inputs and will return a vector in the same direction but with a magnitude corresponding to the second input."
   ]
  },
  {
   "cell_type": "code",
   "execution_count": null,
   "id": "1119e99c-af39-4c91-ab8f-ffdc041888fb",
   "metadata": {},
   "outputs": [],
   "source": []
  }
 ],
 "metadata": {
  "kernelspec": {
   "display_name": "Python 3 (ipykernel)",
   "language": "python",
   "name": "python3"
  },
  "language_info": {
   "codemirror_mode": {
    "name": "ipython",
    "version": 3
   },
   "file_extension": ".py",
   "mimetype": "text/x-python",
   "name": "python",
   "nbconvert_exporter": "python",
   "pygments_lexer": "ipython3",
   "version": "3.13.5"
  }
 },
 "nbformat": 4,
 "nbformat_minor": 5
}
