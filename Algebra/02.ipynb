{
 "cells": [
  {
   "cell_type": "code",
   "execution_count": 1,
   "id": "bcc9076e-da23-4397-8d0d-683658c5eb8d",
   "metadata": {},
   "outputs": [],
   "source": [
    "import numpy as np"
   ]
  },
  {
   "cell_type": "code",
   "execution_count": 2,
   "id": "b4e57028-c1d7-42fb-b0fb-981ded284d29",
   "metadata": {},
   "outputs": [
    {
     "data": {
      "text/plain": [
       "array([5, 8])"
      ]
     },
     "execution_count": 2,
     "metadata": {},
     "output_type": "execute_result"
    }
   ],
   "source": [
    "s = 2\n",
    "v = np.array([3, 6])\n",
    "s+v"
   ]
  },
  {
   "cell_type": "markdown",
   "id": "5fc8466d-b19b-4048-968d-b67396b55f3b",
   "metadata": {},
   "source": [
    "# Transpose"
   ]
  },
  {
   "cell_type": "code",
   "execution_count": 3,
   "id": "504e4a30-5178-4c56-afd6-ecc867f369e9",
   "metadata": {},
   "outputs": [
    {
     "name": "stdout",
     "output_type": "stream",
     "text": [
      "A =\n",
      " [[1 2 3]\n",
      " [4 5 6]]\n",
      "A^T =\n",
      " [[1 4]\n",
      " [2 5]\n",
      " [3 6]]\n"
     ]
    }
   ],
   "source": [
    "A = np.array([[1, 2, 3], [4, 5, 6]])\n",
    "\n",
    "print(\"A =\\n\", A)\n",
    "print(\"A^T =\\n\", A.T)"
   ]
  },
  {
   "cell_type": "markdown",
   "id": "7232072c-3f0e-4488-b8b1-252f69596df0",
   "metadata": {},
   "source": [
    "### 1. Row vs Column vectors (data organization)\n",
    "Imagine you record truck speeds at 3 times>\n",
    "u = (60, 62, 59)"
   ]
  },
  {
   "cell_type": "code",
   "execution_count": 4,
   "id": "353c47c6-de2e-48ad-8584-d77a885048ec",
   "metadata": {},
   "outputs": [
    {
     "name": "stdout",
     "output_type": "stream",
     "text": [
      "[60 62 59]\n",
      "\n",
      "(3,)\n",
      "[60 62 59]\n"
     ]
    }
   ],
   "source": [
    "u = np.array([60, 62, 59])\n",
    "print(u)\n",
    "print()\n",
    "print(u.T.shape)\n",
    "print(u.T)"
   ]
  },
  {
   "cell_type": "markdown",
   "id": "8a2ba2de-dfd3-47ea-b87a-f941b7f90bbd",
   "metadata": {},
   "source": [
    "### 2. Dot product with transpose\n",
    "If u and v are column vectors"
   ]
  },
  {
   "cell_type": "code",
   "execution_count": 5,
   "id": "83e8af4d-9d6d-4980-be8d-eb3ecc538dcb",
   "metadata": {},
   "outputs": [
    {
     "name": "stdout",
     "output_type": "stream",
     "text": [
      "7\n"
     ]
    }
   ],
   "source": [
    "u = np.array([2, 3, 1])\n",
    "v = np.array([4, -1, 2])\n",
    "\n",
    "transpose = sum(u.T * v)\n",
    "print(transpose)"
   ]
  },
  {
   "cell_type": "markdown",
   "id": "ec1b2f68-d3f0-4e8d-8e69-0cca7ae67c36",
   "metadata": {},
   "source": [
    "### Sensor data in a workshop"
   ]
  },
  {
   "cell_type": "code",
   "execution_count": 6,
   "id": "bbf6b18e-c78b-48f3-939f-ba2d1ae004fb",
   "metadata": {},
   "outputs": [
    {
     "name": "stdout",
     "output_type": "stream",
     "text": [
      "[[70.  30.   0.4]\n",
      " [72.  29.   0.5]\n",
      " [68.  31.   0.3]\n",
      " [71.  32.   0.6]]\n"
     ]
    }
   ],
   "source": [
    "A = np.array([[70, 30, 0.4], [72, 29, 0.5], [68, 31, 0.3], [71, 32, 0.6]])\n",
    "print(A)"
   ]
  },
  {
   "cell_type": "code",
   "execution_count": 7,
   "id": "472175ff-ba06-404e-891d-db4a37e8d172",
   "metadata": {},
   "outputs": [
    {
     "data": {
      "text/plain": [
       "array([[70. , 72. , 68. , 71. ],\n",
       "       [30. , 29. , 31. , 32. ],\n",
       "       [ 0.4,  0.5,  0.3,  0.6]])"
      ]
     },
     "execution_count": 7,
     "metadata": {},
     "output_type": "execute_result"
    }
   ],
   "source": [
    "A.T"
   ]
  },
  {
   "cell_type": "markdown",
   "id": "b445ddc9-9565-4624-8d9e-21d177f7e91c",
   "metadata": {},
   "source": [
    "### Distributive property of dot product"
   ]
  },
  {
   "cell_type": "code",
   "execution_count": 8,
   "id": "e00ee2ce-af8d-464e-96a3-eeca857f12e3",
   "metadata": {},
   "outputs": [
    {
     "name": "stdout",
     "output_type": "stream",
     "text": [
      "LHS: 21\n",
      "RHS: 21\n",
      "Equal? True\n"
     ]
    }
   ],
   "source": [
    "u = np.array([2, 3])\n",
    "v = np.array([1, 4])\n",
    "w = np.array([5, -1])\n",
    "\n",
    "\n",
    "lhs = np.dot(u, v + w)\n",
    "rhs = np.dot(u, v) + np.dot(u, w)\n",
    "\n",
    "print(\"LHS:\", lhs)\n",
    "print(\"RHS:\", rhs)\n",
    "print(\"Equal?\", np.isclose(lhs, rhs))"
   ]
  },
  {
   "cell_type": "code",
   "execution_count": 9,
   "id": "bb9eac94-62d1-43d5-a98a-4a913222d16c",
   "metadata": {},
   "outputs": [
    {
     "name": "stdout",
     "output_type": "stream",
     "text": [
      "Commutative: 11 11\n",
      "Distributive:  13 13\n",
      "Scalar associativity:  22 22\n",
      "Zero vector:  0\n",
      "Self-dot = || u ||^2  25 25.0\n"
     ]
    }
   ],
   "source": [
    "u = np.array([3,4])\n",
    "v = np.array([1, 2])\n",
    "w = np.array([2, -1])\n",
    "c = 2\n",
    "\n",
    "print(\"Commutative:\", np.dot(u, v), np.dot(v, u))\n",
    "print(\"Distributive: \", np.dot(u, v+w), np.dot(u, v) + np.dot(u, w))\n",
    "print(\"Scalar associativity: \", np.dot(c*u, v), c*np.dot(u, v))\n",
    "print(\"Zero vector: \", np.dot(u, np.zeros_like(u)))\n",
    "print(\"Self-dot = || u ||^2 \", np.dot(u,u), np.linalg.norm(u)**2)"
   ]
  },
  {
   "cell_type": "code",
   "execution_count": 10,
   "id": "598057d1-a0e5-4783-8373-2fbc57a56a38",
   "metadata": {},
   "outputs": [
    {
     "data": {
      "text/plain": [
       "np.float64(132.27368900609375)"
      ]
     },
     "execution_count": 10,
     "metadata": {},
     "output_type": "execute_result"
    }
   ],
   "source": [
    "import math\n",
    "theta_rad = np.arccos(-10/math.sqrt(221))\n",
    "theta_deg = np.degrees(theta_rad)\n",
    "theta_deg"
   ]
  },
  {
   "cell_type": "code",
   "execution_count": 11,
   "id": "82318dcf-d000-45f6-aae8-429f8fff549e",
   "metadata": {},
   "outputs": [
    {
     "data": {
      "text/plain": [
       "3.75"
      ]
     },
     "execution_count": 11,
     "metadata": {},
     "output_type": "execute_result"
    }
   ],
   "source": [
    "15/4"
   ]
  },
  {
   "cell_type": "markdown",
   "id": "bf5e446b-e439-472f-897e-f4d671af60a3",
   "metadata": {},
   "source": [
    "### Vector basics"
   ]
  },
  {
   "cell_type": "code",
   "execution_count": 12,
   "id": "810a2289-5186-411b-abc8-028e1f9d08a8",
   "metadata": {},
   "outputs": [
    {
     "name": "stdout",
     "output_type": "stream",
     "text": [
      "u+v =  [5 3]\n",
      "u-v =  [ 1 -5]\n"
     ]
    }
   ],
   "source": [
    "u = np.array([3, -1])\n",
    "v = np.array([2, 4])\n",
    "\n",
    "uv = u + v\n",
    "umv = u - v\n",
    "\n",
    "print(\"u+v = \", uv)\n",
    "print(\"u-v = \", umv)"
   ]
  },
  {
   "cell_type": "markdown",
   "id": "71dc7d7a-5c87-42b4-82a1-03cd7793bd48",
   "metadata": {},
   "source": [
    "### Magnitude & unit vectors"
   ]
  },
  {
   "cell_type": "code",
   "execution_count": 13,
   "id": "bde01170-f99f-4205-b80c-5095c40b9418",
   "metadata": {},
   "outputs": [
    {
     "name": "stdout",
     "output_type": "stream",
     "text": [
      "Magnitude =  7.0\n",
      "Unite Vectors = [ 0.85714286  0.28571429 -0.42857143]\n"
     ]
    }
   ],
   "source": [
    "u = np.array([6, 2, -3])\n",
    "\n",
    "mag = np.linalg.norm(u)\n",
    "unit = u/mag\n",
    "\n",
    "print(\"Magnitude = \", mag)\n",
    "print(\"Unite Vectors =\", unit)"
   ]
  },
  {
   "cell_type": "markdown",
   "id": "f666dd4e-9ede-4f27-b5d2-72b4379613ff",
   "metadata": {},
   "source": [
    "### Dot product"
   ]
  },
  {
   "cell_type": "code",
   "execution_count": 14,
   "id": "be51dfa8-4ebe-437c-8b43-d066ee8d2b9a",
   "metadata": {},
   "outputs": [
    {
     "name": "stdout",
     "output_type": "stream",
     "text": [
      "Dot:  -10\n",
      "Angle (deg):  132.27368900609375\n"
     ]
    }
   ],
   "source": [
    "u = np.array([2, 3])\n",
    "v = np.array([1, -4])\n",
    "\n",
    "dot = np.dot(u, v)\n",
    "theta = np.arccos(dot/(np.linalg.norm(u)*np.linalg.norm(v)))\n",
    "print(\"Dot: \", dot)\n",
    "print(\"Angle (deg): \", np.degrees(theta))"
   ]
  },
  {
   "cell_type": "markdown",
   "id": "08c0abe3-8548-48b2-a90d-ba6f44587ce3",
   "metadata": {},
   "source": [
    "### Dot product properties"
   ]
  },
  {
   "cell_type": "code",
   "execution_count": 21,
   "id": "1eb4a5f0-5a7a-4ff5-933a-47c13dbda5cd",
   "metadata": {},
   "outputs": [
    {
     "name": "stdout",
     "output_type": "stream",
     "text": [
      "u*v = v * u =  [3 8] [3 8]\n",
      "u * (v + w) = u * v + u * w ->  14 14\n",
      "(cu) * v = c (u*v)\n"
     ]
    }
   ],
   "source": [
    "u = np.array([1, 2])\n",
    "v = np.array([3, 4])\n",
    "w = np.array([5, -1])\n",
    "c = 2\n",
    "\n",
    "# Commutativity\n",
    "com = u*v\n",
    "comv = v*u\n",
    "\n",
    "print(\"u*v = v * u = \", com, comv) \n",
    "\n",
    "# Distributivity\n",
    "dis = np.dot(u, (v+w))\n",
    "dis2 = np.dot(u, v) + np.dot(u, w)\n",
    "print(\"u * (v + w) = u * v + u * w -> \", dis, dis2) \n",
    "\n",
    "# Scalar associativity\n",
    "scalar = (c*u)*v\n",
    "scalar2 = c*(c*v)\n",
    "print(\"(cu) * v = c (u*v)\")"
   ]
  },
  {
   "cell_type": "code",
   "execution_count": null,
   "id": "a5d28b97-7747-4908-a0f8-11ebc337916d",
   "metadata": {},
   "outputs": [],
   "source": []
  }
 ],
 "metadata": {
  "kernelspec": {
   "display_name": "Python 3 (ipykernel)",
   "language": "python",
   "name": "python3"
  },
  "language_info": {
   "codemirror_mode": {
    "name": "ipython",
    "version": 3
   },
   "file_extension": ".py",
   "mimetype": "text/x-python",
   "name": "python",
   "nbconvert_exporter": "python",
   "pygments_lexer": "ipython3",
   "version": "3.12.3"
  }
 },
 "nbformat": 4,
 "nbformat_minor": 5
}
