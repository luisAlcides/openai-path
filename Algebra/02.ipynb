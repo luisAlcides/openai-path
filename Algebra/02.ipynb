{
 "cells": [
  {
   "cell_type": "code",
   "execution_count": 1,
   "id": "bcc9076e-da23-4397-8d0d-683658c5eb8d",
   "metadata": {},
   "outputs": [],
   "source": [
    "import numpy as np"
   ]
  },
  {
   "cell_type": "code",
   "execution_count": 2,
   "id": "b4e57028-c1d7-42fb-b0fb-981ded284d29",
   "metadata": {},
   "outputs": [
    {
     "data": {
      "text/plain": [
       "array([5, 8])"
      ]
     },
     "execution_count": 2,
     "metadata": {},
     "output_type": "execute_result"
    }
   ],
   "source": [
    "s = 2\n",
    "v = np.array([3, 6])\n",
    "s+v"
   ]
  },
  {
   "cell_type": "markdown",
   "id": "5fc8466d-b19b-4048-968d-b67396b55f3b",
   "metadata": {},
   "source": [
    "# Transpose"
   ]
  },
  {
   "cell_type": "code",
   "execution_count": 3,
   "id": "504e4a30-5178-4c56-afd6-ecc867f369e9",
   "metadata": {},
   "outputs": [
    {
     "name": "stdout",
     "output_type": "stream",
     "text": [
      "A =\n",
      " [[1 2 3]\n",
      " [4 5 6]]\n",
      "A^T =\n",
      " [[1 4]\n",
      " [2 5]\n",
      " [3 6]]\n"
     ]
    }
   ],
   "source": [
    "A = np.array([[1, 2, 3], [4, 5, 6]])\n",
    "\n",
    "print(\"A =\\n\", A)\n",
    "print(\"A^T =\\n\", A.T)"
   ]
  },
  {
   "cell_type": "markdown",
   "id": "7232072c-3f0e-4488-b8b1-252f69596df0",
   "metadata": {},
   "source": [
    "### 1. Row vs Column vectors (data organization)\n",
    "Imagine you record truck speeds at 3 times>\n",
    "u = (60, 62, 59)"
   ]
  },
  {
   "cell_type": "code",
   "execution_count": 6,
   "id": "353c47c6-de2e-48ad-8584-d77a885048ec",
   "metadata": {},
   "outputs": [
    {
     "name": "stdout",
     "output_type": "stream",
     "text": [
      "[60 62 59]\n",
      "\n",
      "(3,)\n",
      "[60 62 59]\n"
     ]
    }
   ],
   "source": [
    "u = np.array([60, 62, 59])\n",
    "print(u)\n",
    "print()\n",
    "print(u.T.shape)\n",
    "print(u.T)"
   ]
  },
  {
   "cell_type": "markdown",
   "id": "8a2ba2de-dfd3-47ea-b87a-f941b7f90bbd",
   "metadata": {},
   "source": [
    "### 2. Dot product with transpose\n",
    "If u and v are column vectors"
   ]
  },
  {
   "cell_type": "code",
   "execution_count": 11,
   "id": "83e8af4d-9d6d-4980-be8d-eb3ecc538dcb",
   "metadata": {},
   "outputs": [
    {
     "name": "stdout",
     "output_type": "stream",
     "text": [
      "7\n"
     ]
    }
   ],
   "source": [
    "u = np.array([2, 3, 1])\n",
    "v = np.array([4, -1, 2])\n",
    "\n",
    "transpose = sum(u.T * v)\n",
    "print(transpose)"
   ]
  },
  {
   "cell_type": "markdown",
   "id": "ec1b2f68-d3f0-4e8d-8e69-0cca7ae67c36",
   "metadata": {},
   "source": [
    "### Sensor data in a workshop"
   ]
  },
  {
   "cell_type": "code",
   "execution_count": 12,
   "id": "bbf6b18e-c78b-48f3-939f-ba2d1ae004fb",
   "metadata": {},
   "outputs": [
    {
     "name": "stdout",
     "output_type": "stream",
     "text": [
      "[[70.  30.   0.4]\n",
      " [72.  29.   0.5]\n",
      " [68.  31.   0.3]\n",
      " [71.  32.   0.6]]\n"
     ]
    }
   ],
   "source": [
    "A = np.array([[70, 30, 0.4], [72, 29, 0.5], [68, 31, 0.3], [71, 32, 0.6]])\n",
    "print(A)"
   ]
  },
  {
   "cell_type": "code",
   "execution_count": 13,
   "id": "472175ff-ba06-404e-891d-db4a37e8d172",
   "metadata": {},
   "outputs": [
    {
     "data": {
      "text/plain": [
       "array([[70. , 72. , 68. , 71. ],\n",
       "       [30. , 29. , 31. , 32. ],\n",
       "       [ 0.4,  0.5,  0.3,  0.6]])"
      ]
     },
     "execution_count": 13,
     "metadata": {},
     "output_type": "execute_result"
    }
   ],
   "source": [
    "A.T"
   ]
  },
  {
   "cell_type": "code",
   "execution_count": null,
   "id": "7d9920bc-2bdc-4a47-9f67-48b7d0e76e30",
   "metadata": {},
   "outputs": [],
   "source": []
  }
 ],
 "metadata": {
  "kernelspec": {
   "display_name": "Python 3 (ipykernel)",
   "language": "python",
   "name": "python3"
  },
  "language_info": {
   "codemirror_mode": {
    "name": "ipython",
    "version": 3
   },
   "file_extension": ".py",
   "mimetype": "text/x-python",
   "name": "python",
   "nbconvert_exporter": "python",
   "pygments_lexer": "ipython3",
   "version": "3.12.3"
  }
 },
 "nbformat": 4,
 "nbformat_minor": 5
}
