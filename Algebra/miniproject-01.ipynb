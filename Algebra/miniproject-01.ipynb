{
 "cells": [
  {
   "cell_type": "code",
   "execution_count": 1,
   "id": "e545f720-5409-4df0-919c-480de3bc56d4",
   "metadata": {},
   "outputs": [],
   "source": [
    "import numpy as np"
   ]
  },
  {
   "cell_type": "markdown",
   "id": "7823a818-df11-403b-b1b4-7a0e9f9a94b8",
   "metadata": {},
   "source": [
    "# Mini-Project: Delivery Drones Navigation\n",
    "Imagine you're building a navigation system for delivery drones. Each drone moves in a 2D plane (x, y). You need to calculate directions, normalize vectors, rescale them, and check orthogonality to avoid collisions"
   ]
  },
  {
   "cell_type": "code",
   "execution_count": 12,
   "id": "bbfe6f96-9bc9-4cd2-b3c7-312ff714ae22",
   "metadata": {},
   "outputs": [
    {
     "name": "stdout",
     "output_type": "stream",
     "text": [
      "AB:  [5 5]\n",
      "AC:  [2 7]\n",
      "unitAB:  [0.70710678 0.70710678]\n",
      "unitAC:  [0.27472113 0.96152395]\n",
      "scaleAB:  [3.53553391 3.53553391]\n",
      "scaleAC:  [1.37360564 4.80761974]\n",
      "dot(AB, AC):  45\n",
      "orthogonal?:  False\n",
      "angle(AB, AC): 29.05 degrees\n",
      "proj_AB_on_AC: [1.69811321 5.94339623]\n",
      "perp_component: [ 3.30188679 -0.94339623]\n",
      "perp ⟂ AC ? True\n"
     ]
    }
   ],
   "source": [
    "A = np.array([2, 3])\n",
    "B = np.array([7, 8])\n",
    "C = np.array([4, 10])\n",
    "\n",
    "# Compute travel vectors\n",
    "# Find the vector from Drone A -> Drone B, and from A -> C\n",
    "# Formula: AB = B-A,  AC= C-A\n",
    "AB = B-A\n",
    "AC = C-A\n",
    "print(\"AB: \", AB)\n",
    "print(\"AC: \", AC)\n",
    "\n",
    "# Normalize travel directions\n",
    "# Create unit vectors for both AB and AC so that the drones know ther travel direction only (ignoring distance)\n",
    "magAB = np.linalg.norm(AB)\n",
    "unitAB = AB / magAB\n",
    "\n",
    "magAC = np.linalg.norm(AC)\n",
    "unitAC = AC/magAC\n",
    "\n",
    "print(\"unitAB: \", unitAB)\n",
    "print(\"unitAC: \", unitAC)\n",
    "\n",
    "# Scale travel to fixed speed\n",
    "# Suppose drone must always move with speed = 5 units per step.\n",
    "# Rescale the unit vectors to magnitude 5\n",
    "\n",
    "def set_magnitude(v, mag, eps=1e-12):\n",
    "    norm = np.linalg.norm(v)\n",
    "    if norm < eps:\n",
    "        raise ValueError(\"Non zero\")\n",
    "    return (v/norm) * mag \n",
    "\n",
    "scaleAB = set_magnitude(AB, 5)\n",
    "scaleAC = set_magnitude(AC, 5)\n",
    "print(\"scaleAB: \", scaleAB)\n",
    "print(\"scaleAC: \", scaleAC)\n",
    "\n",
    "# check for collision paths\n",
    "# Two paths are orthogonal if the dot product = 0\n",
    "# Check if AB and AC are orthogonal\n",
    "# If not orthogonal, compute the angle between them>\n",
    "dot_AB_AC = np.dot(AB, AC)\n",
    "are_orthogonal = np.isclose(dot_AB_AC, 0.0, atol=1e-12)\n",
    "print(\"dot(AB, AC): \", dot_AB_AC)\n",
    "print(\"orthogonal?: \", are_orthogonal)\n",
    "\n",
    "angle_rad = np.arccos(dot_AB_AC / (np.linalg.norm(AB) * np.linalg.norm(AC)))\n",
    "\n",
    "angle_deg = np.degrees(angle_rad)\n",
    "print(f\"angle(AB, AC): {angle_deg:.2f} degrees\")\n",
    "\n",
    "# Decompose AB into parallel/perp to AC\n",
    "proj_AB_on_AC = (np.dot(AB, AC) / np.dot(AC, AC)) * AC\n",
    "perp_component = AB - proj_AB_on_AC\n",
    "\n",
    "print(\"proj_AB_on_AC:\", proj_AB_on_AC)\n",
    "print(\"perp_component:\", perp_component)\n",
    "print(\"perp ⟂ AC ?\", np.isclose(np.dot(perp_component, AC), 0.0, atol=1e-9))"
   ]
  },
  {
   "cell_type": "code",
   "execution_count": null,
   "id": "1ff4e986-7262-429b-a33b-8f8588008f62",
   "metadata": {},
   "outputs": [],
   "source": []
  }
 ],
 "metadata": {
  "kernelspec": {
   "display_name": "Python 3 (ipykernel)",
   "language": "python",
   "name": "python3"
  },
  "language_info": {
   "codemirror_mode": {
    "name": "ipython",
    "version": 3
   },
   "file_extension": ".py",
   "mimetype": "text/x-python",
   "name": "python",
   "nbconvert_exporter": "python",
   "pygments_lexer": "ipython3",
   "version": "3.13.5"
  }
 },
 "nbformat": 4,
 "nbformat_minor": 5
}
