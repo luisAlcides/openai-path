{
 "cells": [
  {
   "cell_type": "code",
   "execution_count": 1,
   "id": "c80ac169-0874-4dee-bbc2-9ae0ded742c7",
   "metadata": {},
   "outputs": [],
   "source": [
    "import numpy as np"
   ]
  },
  {
   "cell_type": "code",
   "execution_count": 5,
   "id": "b50a1186-c28b-4115-9421-41a460dab7bc",
   "metadata": {},
   "outputs": [
    {
     "name": "stdout",
     "output_type": "stream",
     "text": [
      "asList: (3,)\n",
      "asArray: (3,)\n",
      "rowVec: (1, 3)\n",
      "colVec: (3, 1)\n"
     ]
    }
   ],
   "source": [
    "asList = [1,2,3]\n",
    "asArray = np.array([1,2,3])\n",
    "rowVec = np.array([[1,2,3]])\n",
    "colvec = np.array([[1], [2], [3]])\n",
    "\n",
    "print(f'asList: {np.shape(asList)}')\n",
    "print(f'asArray: {asArray.shape}')\n",
    "print(f'rowVec: {rowVec.shape}')\n",
    "print(f'colVec: {colvec.shape}')\n",
    "                          "
   ]
  },
  {
   "cell_type": "markdown",
   "id": "82abf824-fa83-4392-88c1-89c47e436dff",
   "metadata": {},
   "source": [
    "### Adding two vectors"
   ]
  },
  {
   "cell_type": "code",
   "execution_count": 9,
   "id": "d9054d13-42e2-4da2-832a-da3e421ea6d2",
   "metadata": {},
   "outputs": [
    {
     "name": "stdout",
     "output_type": "stream",
     "text": [
      "[14 25 36]\n"
     ]
    },
    {
     "ename": "ValueError",
     "evalue": "operands could not be broadcast together with shapes (4,) (3,) ",
     "output_type": "error",
     "traceback": [
      "\u001b[1;31m---------------------------------------------------------------------------\u001b[0m",
      "\u001b[1;31mValueError\u001b[0m                                Traceback (most recent call last)",
      "Cell \u001b[1;32mIn[9], line 6\u001b[0m\n\u001b[0;32m      4\u001b[0m vPluW \u001b[38;5;241m=\u001b[39m v\u001b[38;5;241m+\u001b[39mw\n\u001b[0;32m      5\u001b[0m \u001b[38;5;28mprint\u001b[39m(vPluW)\n\u001b[1;32m----> 6\u001b[0m uPlusW \u001b[38;5;241m=\u001b[39m u\u001b[38;5;241m+\u001b[39mw\n",
      "\u001b[1;31mValueError\u001b[0m: operands could not be broadcast together with shapes (4,) (3,) "
     ]
    }
   ],
   "source": [
    "v = np.array([4, 5, 6])\n",
    "w = np.array([10, 20, 30])\n",
    "u = np.array([0, 3, 6, 9])\n",
    "vPluW = v+w\n",
    "print(vPluW)\n",
    "uPlusW = u+w # error! dimensions mismatched!"
   ]
  },
  {
   "cell_type": "code",
   "execution_count": 13,
   "id": "18d166de-3f61-4770-a080-a78f8f35bcda",
   "metadata": {},
   "outputs": [
    {
     "name": "stdout",
     "output_type": "stream",
     "text": [
      "[4 5 6]\n",
      "[[10]\n",
      " [20]\n",
      " [30]]\n"
     ]
    },
    {
     "data": {
      "text/plain": [
       "array([[14, 15, 16],\n",
       "       [24, 25, 26],\n",
       "       [34, 35, 36]])"
      ]
     },
     "execution_count": 13,
     "metadata": {},
     "output_type": "execute_result"
    }
   ],
   "source": [
    "v = np.array([4, 5, 6])\n",
    "w = np.array([[10, 20, 30]]).T\n",
    "\n",
    "print(v)\n",
    "print(w)\n",
    "v+w\n"
   ]
  },
  {
   "cell_type": "markdown",
   "id": "95a6e294-8f95-440e-929e-f009e71ab497",
   "metadata": {},
   "source": [
    "### Orientationless 1D vector"
   ]
  },
  {
   "cell_type": "code",
   "execution_count": 14,
   "id": "ad1e4671-34e3-4530-a4a0-3dee1b2f7b3e",
   "metadata": {},
   "outputs": [
    {
     "name": "stdout",
     "output_type": "stream",
     "text": [
      "(3,)\n",
      "(1, 3)\n",
      "(3, 1)\n"
     ]
    }
   ],
   "source": [
    "asArray = np.array([1,2,3])\n",
    "print(asArray.shape)\n",
    "\n",
    "# Row vector\n",
    "rowVec = np.array([[1,2,3]])\n",
    "print(rowVec.shape)\n",
    "\n",
    "# Column vector\n",
    "colVec = np.array([[1], [2], [3]])\n",
    "print(colVec.shape)"
   ]
  },
  {
   "cell_type": "code",
   "execution_count": 15,
   "id": "065d1ff9-0c06-497c-b0b2-ea8a1e7b2fe5",
   "metadata": {},
   "outputs": [
    {
     "name": "stdout",
     "output_type": "stream",
     "text": [
      "[14 25 36]\n"
     ]
    }
   ],
   "source": [
    "v = np.array([4, 5, 6])\n",
    "w = np.array([10, 20, 30])\n",
    "\n",
    "vPlusW = v + w\n",
    "print(vPlusW)"
   ]
  },
  {
   "cell_type": "markdown",
   "id": "fc64f424-ee21-4fc7-98bd-d0ba58416e67",
   "metadata": {},
   "source": [
    "### Vector subtraction"
   ]
  },
  {
   "cell_type": "code",
   "execution_count": 18,
   "id": "b5a51c50-a2b2-406b-8119-0ca2b4f6776b",
   "metadata": {},
   "outputs": [
    {
     "name": "stdout",
     "output_type": "stream",
     "text": [
      "[ -6 -15 -24]\n"
     ]
    }
   ],
   "source": [
    "u = np.array([4, 5, 6])\n",
    "v = np.array([10, 20, 30])\n",
    "\n",
    "uMinusV = u - v\n",
    "print(uMinusV)"
   ]
  },
  {
   "cell_type": "markdown",
   "id": "40f67b30-2acd-46f9-962d-8fb674eb4340",
   "metadata": {},
   "source": [
    "### Broadcasting kicks in"
   ]
  },
  {
   "cell_type": "code",
   "execution_count": 26,
   "id": "e1bd7726-21d5-4ab0-b785-8c418ab290c9",
   "metadata": {},
   "outputs": [
    {
     "name": "stdout",
     "output_type": "stream",
     "text": [
      "[4 5 6]\n",
      "\n",
      "\n",
      "[[10 20 30]]\n",
      "\n",
      "\n",
      "[[10]\n",
      " [20]\n",
      " [30]]\n",
      "\n",
      "\n",
      "Shapes:  (3,) (3, 1)\n",
      "[[14 15 16]\n",
      " [24 25 26]\n",
      " [34 35 36]]\n"
     ]
    }
   ],
   "source": [
    "u = np.array([4, 5, 6])\n",
    "v = np.array([[10, 20, 30]]).T\n",
    "\n",
    "print(u)\n",
    "print(\"\\n\")\n",
    "print(np.array([[10, 20, 30]]))\n",
    "print(\"\\n\")\n",
    "print(v)\n",
    "print(\"\\n\")\n",
    "print(\"Shapes: \", u.shape, v.shape)\n",
    "print(u+v)"
   ]
  },
  {
   "cell_type": "markdown",
   "id": "7db19f1a-195d-4a4f-8935-a5a3e55c1220",
   "metadata": {},
   "source": [
    "### Practice 1"
   ]
  },
  {
   "cell_type": "code",
   "execution_count": 27,
   "id": "b269b698-b4c6-4e08-9636-f66245ae90be",
   "metadata": {},
   "outputs": [
    {
     "name": "stdout",
     "output_type": "stream",
     "text": [
      "u + v =  [ 8  3 -1]\n",
      "u - v =  [-2 -5  5]\n"
     ]
    }
   ],
   "source": [
    "u = np.array([3, -1, 2])\n",
    "v = np.array([5, 4, -3])\n",
    "\n",
    "uPlusV = u + v\n",
    "uMinusV = u - v\n",
    "\n",
    "print(\"u + v = \", uPlusV)\n",
    "print(\"u - v = \", uMinusV)"
   ]
  },
  {
   "cell_type": "markdown",
   "id": "2a5c26cc-ac7d-41c6-8c4b-de44193970b4",
   "metadata": {},
   "source": [
    "### Practice round 2"
   ]
  },
  {
   "cell_type": "code",
   "execution_count": 28,
   "id": "a9a57821-d8da-491d-9a53-25df2652a198",
   "metadata": {},
   "outputs": [
    {
     "data": {
      "text/plain": [
       "7.0"
      ]
     },
     "execution_count": 28,
     "metadata": {},
     "output_type": "execute_result"
    }
   ],
   "source": [
    " import math\n",
    "math.sqrt(49)"
   ]
  },
  {
   "cell_type": "code",
   "execution_count": 32,
   "id": "c3b39808-c011-4795-bc34-34d2fe269551",
   "metadata": {},
   "outputs": [
    {
     "name": "stdout",
     "output_type": "stream",
     "text": [
      "w =  [ 6  2 -3]\n",
      "mag =  7.0\n",
      "unit =  [ 0.85714286  0.28571429 -0.42857143]\n"
     ]
    }
   ],
   "source": [
    "w = np.array([6, 2, -3])\n",
    "mag = np.linalg.norm(w)\n",
    "unit = w / mag\n",
    "\n",
    "print(\"w = \", w)\n",
    "print(\"mag = \", mag)\n",
    "print(\"unit = \", unit)\n"
   ]
  },
  {
   "cell_type": "code",
   "execution_count": null,
   "id": "335f3571-fa2d-43c3-b39c-2be2c802d133",
   "metadata": {},
   "outputs": [],
   "source": []
  }
 ],
 "metadata": {
  "kernelspec": {
   "display_name": "Python 3 (ipykernel)",
   "language": "python",
   "name": "python3"
  },
  "language_info": {
   "codemirror_mode": {
    "name": "ipython",
    "version": 3
   },
   "file_extension": ".py",
   "mimetype": "text/x-python",
   "name": "python",
   "nbconvert_exporter": "python",
   "pygments_lexer": "ipython3",
   "version": "3.13.5"
  }
 },
 "nbformat": 4,
 "nbformat_minor": 5
}
