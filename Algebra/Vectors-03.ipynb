{
 "cells": [
  {
   "cell_type": "code",
   "execution_count": 1,
   "id": "c80ac169-0874-4dee-bbc2-9ae0ded742c7",
   "metadata": {},
   "outputs": [],
   "source": [
    "import numpy as np"
   ]
  },
  {
   "cell_type": "code",
   "execution_count": 2,
   "id": "b50a1186-c28b-4115-9421-41a460dab7bc",
   "metadata": {},
   "outputs": [
    {
     "name": "stdout",
     "output_type": "stream",
     "text": [
      "asList: (3,)\n",
      "asArray: (3,)\n",
      "rowVec: (1, 3)\n",
      "colVec: (3, 1)\n"
     ]
    }
   ],
   "source": [
    "asList = [1,2,3]\n",
    "asArray = np.array([1,2,3])\n",
    "rowVec = np.array([[1,2,3]])\n",
    "colvec = np.array([[1], [2], [3]])\n",
    "\n",
    "print(f'asList: {np.shape(asList)}')\n",
    "print(f'asArray: {asArray.shape}')\n",
    "print(f'rowVec: {rowVec.shape}')\n",
    "print(f'colVec: {colvec.shape}')\n",
    "                          "
   ]
  },
  {
   "cell_type": "markdown",
   "id": "82abf824-fa83-4392-88c1-89c47e436dff",
   "metadata": {},
   "source": [
    "### Adding two vectors"
   ]
  },
  {
   "cell_type": "code",
   "execution_count": 3,
   "id": "d9054d13-42e2-4da2-832a-da3e421ea6d2",
   "metadata": {},
   "outputs": [
    {
     "name": "stdout",
     "output_type": "stream",
     "text": [
      "[14 25 36]\n"
     ]
    },
    {
     "ename": "ValueError",
     "evalue": "operands could not be broadcast together with shapes (4,) (3,) ",
     "output_type": "error",
     "traceback": [
      "\u001b[1;31m---------------------------------------------------------------------------\u001b[0m",
      "\u001b[1;31mValueError\u001b[0m                                Traceback (most recent call last)",
      "Cell \u001b[1;32mIn[3], line 6\u001b[0m\n\u001b[0;32m      4\u001b[0m vPluW \u001b[38;5;241m=\u001b[39m v\u001b[38;5;241m+\u001b[39mw\n\u001b[0;32m      5\u001b[0m \u001b[38;5;28mprint\u001b[39m(vPluW)\n\u001b[1;32m----> 6\u001b[0m uPlusW \u001b[38;5;241m=\u001b[39m u\u001b[38;5;241m+\u001b[39mw\n",
      "\u001b[1;31mValueError\u001b[0m: operands could not be broadcast together with shapes (4,) (3,) "
     ]
    }
   ],
   "source": [
    "v = np.array([4, 5, 6])\n",
    "w = np.array([10, 20, 30])\n",
    "u = np.array([0, 3, 6, 9])\n",
    "vPluW = v+w\n",
    "print(vPluW)\n",
    "uPlusW = u+w # error! dimensions mismatched!"
   ]
  },
  {
   "cell_type": "code",
   "execution_count": null,
   "id": "18d166de-3f61-4770-a080-a78f8f35bcda",
   "metadata": {},
   "outputs": [],
   "source": [
    "v = np.array([4, 5, 6])\n",
    "w = np.array([[10, 20, 30]]).T\n",
    "\n",
    "print(v)\n",
    "print(w)\n",
    "v+w\n"
   ]
  },
  {
   "cell_type": "markdown",
   "id": "95a6e294-8f95-440e-929e-f009e71ab497",
   "metadata": {},
   "source": [
    "### Orientationless 1D vector"
   ]
  },
  {
   "cell_type": "code",
   "execution_count": null,
   "id": "ad1e4671-34e3-4530-a4a0-3dee1b2f7b3e",
   "metadata": {},
   "outputs": [],
   "source": [
    "asArray = np.array([1,2,3])\n",
    "print(asArray.shape)\n",
    "\n",
    "# Row vector\n",
    "rowVec = np.array([[1,2,3]])\n",
    "print(rowVec.shape)\n",
    "\n",
    "# Column vector\n",
    "colVec = np.array([[1], [2], [3]])\n",
    "print(colVec.shape)"
   ]
  },
  {
   "cell_type": "code",
   "execution_count": null,
   "id": "065d1ff9-0c06-497c-b0b2-ea8a1e7b2fe5",
   "metadata": {},
   "outputs": [],
   "source": [
    "v = np.array([4, 5, 6])\n",
    "w = np.array([10, 20, 30])\n",
    "\n",
    "vPlusW = v + w\n",
    "print(vPlusW)"
   ]
  },
  {
   "cell_type": "markdown",
   "id": "fc64f424-ee21-4fc7-98bd-d0ba58416e67",
   "metadata": {},
   "source": [
    "### Vector subtraction"
   ]
  },
  {
   "cell_type": "code",
   "execution_count": null,
   "id": "b5a51c50-a2b2-406b-8119-0ca2b4f6776b",
   "metadata": {},
   "outputs": [],
   "source": [
    "u = np.array([4, 5, 6])\n",
    "v = np.array([10, 20, 30])\n",
    "\n",
    "uMinusV = u - v\n",
    "print(uMinusV)"
   ]
  },
  {
   "cell_type": "markdown",
   "id": "40f67b30-2acd-46f9-962d-8fb674eb4340",
   "metadata": {},
   "source": [
    "### Broadcasting kicks in"
   ]
  },
  {
   "cell_type": "code",
   "execution_count": null,
   "id": "e1bd7726-21d5-4ab0-b785-8c418ab290c9",
   "metadata": {},
   "outputs": [],
   "source": [
    "u = np.array([4, 5, 6])\n",
    "v = np.array([[10, 20, 30]]).T\n",
    "\n",
    "print(u)\n",
    "print(\"\\n\")\n",
    "print(np.array([[10, 20, 30]]))\n",
    "print(\"\\n\")\n",
    "print(v)\n",
    "print(\"\\n\")\n",
    "print(\"Shapes: \", u.shape, v.shape)\n",
    "print(u+v)"
   ]
  },
  {
   "cell_type": "markdown",
   "id": "7db19f1a-195d-4a4f-8935-a5a3e55c1220",
   "metadata": {},
   "source": [
    "### Practice 1"
   ]
  },
  {
   "cell_type": "code",
   "execution_count": null,
   "id": "b269b698-b4c6-4e08-9636-f66245ae90be",
   "metadata": {},
   "outputs": [],
   "source": [
    "u = np.array([3, -1, 2])\n",
    "v = np.array([5, 4, -3])\n",
    "\n",
    "uPlusV = u + v\n",
    "uMinusV = u - v\n",
    "\n",
    "print(\"u + v = \", uPlusV)\n",
    "print(\"u - v = \", uMinusV)"
   ]
  },
  {
   "cell_type": "markdown",
   "id": "2a5c26cc-ac7d-41c6-8c4b-de44193970b4",
   "metadata": {},
   "source": [
    "### Practice round 2"
   ]
  },
  {
   "cell_type": "code",
   "execution_count": 6,
   "id": "a9a57821-d8da-491d-9a53-25df2652a198",
   "metadata": {},
   "outputs": [
    {
     "data": {
      "text/plain": [
       "7.0"
      ]
     },
     "execution_count": 6,
     "metadata": {},
     "output_type": "execute_result"
    }
   ],
   "source": [
    " import math\n",
    "math.sqrt(49)"
   ]
  },
  {
   "cell_type": "code",
   "execution_count": 4,
   "id": "c3b39808-c011-4795-bc34-34d2fe269551",
   "metadata": {},
   "outputs": [
    {
     "name": "stdout",
     "output_type": "stream",
     "text": [
      "w =  [ 6  2 -3]\n",
      "mag =  7.0\n",
      "unit =  [ 0.85714286  0.28571429 -0.42857143]\n"
     ]
    }
   ],
   "source": [
    "w = np.array([6, 2, -3])\n",
    "mag = np.linalg.norm(w)\n",
    "unit = w / mag\n",
    "\n",
    "print(\"w = \", w)\n",
    "print(\"mag = \", mag)\n",
    "print(\"unit = \", unit)\n"
   ]
  },
  {
   "cell_type": "code",
   "execution_count": 12,
   "id": "335f3571-fa2d-43c3-b39c-2be2c802d133",
   "metadata": {},
   "outputs": [
    {
     "data": {
      "text/plain": [
       "np.float64(130.82269879511455)"
      ]
     },
     "execution_count": 12,
     "metadata": {},
     "output_type": "execute_result"
    }
   ],
   "source": [
    "np.degrees(np.arccos(-10/(math.sqrt(13) * math.sqrt(18))))"
   ]
  },
  {
   "cell_type": "code",
   "execution_count": 14,
   "id": "41381f17-9b38-4799-a0b7-1f14b5053199",
   "metadata": {},
   "outputs": [
    {
     "data": {
      "image/png": "[encoded data removed]",
      "text/plain": [
       "<Figure size 640x480 with 1 Axes>"
      ]
     },
     "metadata": {},
     "output_type": "display_data"
    }
   ],
   "source": [
    "import matplotlib.pyplot as plt\n",
    "import numpy as np\n",
    "\n",
    "u = np.array([2, 1])\n",
    "v = np.array([-1, 3])\n",
    "\n",
    "plt.quiver(0, 0, u[0], u[1], angles='xy', scale_units='xy', scale=1, color='r', label='u')\n",
    "plt.quiver(0, 0, v[0], v[1], angles='xy', scale_units='xy', scale=1, color='b', label='v')\n",
    "\n",
    "plt.xlim(-2, 4)\n",
    "plt.ylim(-1, 4)\n",
    "plt.axhline(0, color='gray')\n",
    "plt.axvline(0, color='gray')\n",
    "plt.legend()\n",
    "plt.show()\n"
   ]
  },
  {
   "cell_type": "code",
   "execution_count": 15,
   "id": "c741920b-5cc6-4816-acd1-2012831b47e3",
   "metadata": {},
   "outputs": [
    {
     "name": "stdout",
     "output_type": "stream",
     "text": [
      "3.0\n"
     ]
    }
   ],
   "source": [
    "## Norm vector\n",
    "u = np.array([1, 2, 2])\n",
    "print(np.linalg.norm(u))"
   ]
  },
  {
   "cell_type": "code",
   "execution_count": 17,
   "id": "1c77c513-8f58-41eb-b4fc-725ed7f60eb3",
   "metadata": {},
   "outputs": [
    {
     "name": "stdout",
     "output_type": "stream",
     "text": [
      "[1. 0.]\n"
     ]
    }
   ],
   "source": [
    "## Unit vectors\n",
    "u = np.array([5, 0])\n",
    "mag = np.linalg.norm(u)\n",
    "unit = u / mag\n",
    "print(unit)"
   ]
  },
  {
   "cell_type": "code",
   "execution_count": 23,
   "id": "baccaaec-336b-4792-b2e3-e0f10db32ace",
   "metadata": {},
   "outputs": [
    {
     "name": "stdout",
     "output_type": "stream",
     "text": [
      "[0.6 0.8]\n",
      "[6. 8.]\n"
     ]
    }
   ],
   "source": [
    "## Arbitrary magnitude vectors\n",
    "u = np.array([3, 4])\n",
    "M = 10\n",
    "mag = np.linalg.norm(u)\n",
    "unit = u / mag\n",
    "print(unit)\n",
    "arbitrary = unit * M\n",
    "print(arbitrary)"
   ]
  },
  {
   "cell_type": "code",
   "execution_count": 24,
   "id": "9e707045-b4e9-46da-ae60-89f4832ec27e",
   "metadata": {},
   "outputs": [
    {
     "name": "stdout",
     "output_type": "stream",
     "text": [
      "[[4], [5], [6]]\n"
     ]
    }
   ],
   "source": [
    "## Turn [4, 5, 6] into a column vector without using .T\n",
    "row = [4, 5, 6]\n",
    "col = [[x] for x in row]\n",
    "print(col)"
   ]
  },
  {
   "cell_type": "code",
   "execution_count": 27,
   "id": "002480b9-1ab6-4870-82b8-96c72d042527",
   "metadata": {},
   "outputs": [
    {
     "name": "stdout",
     "output_type": "stream",
     "text": [
      "13\n",
      "3.605551275463989\n"
     ]
    }
   ],
   "source": [
    "## Norm as dot product\n",
    "u = np.array([2, 3])\n",
    "print(np.dot(u, u))\n",
    "print(np.sqrt(np.dot(u, u)))"
   ]
  },
  {
   "cell_type": "code",
   "execution_count": 33,
   "id": "d554a453-c22c-4860-906a-4f9fa87d4c6d",
   "metadata": {},
   "outputs": [
    {
     "name": "stdout",
     "output_type": "stream",
     "text": [
      "[3 8]\n",
      "[3 8]\n",
      "[ 5 14]\n",
      "[ 5 14]\n"
     ]
    }
   ],
   "source": [
    "## Dot product properties\n",
    "u = np.array([1, 2])\n",
    "v = np.array([3, 4])\n",
    "w = np.array([2, 3])\n",
    "print(u * v)\n",
    "print(v * u)\n",
    "print(u * (v + w))\n",
    "print(u*v + u*w)\n"
   ]
  },
  {
   "cell_type": "code",
   "execution_count": 39,
   "id": "51fe704c-f2f5-4244-b43a-7c171b264ce9",
   "metadata": {},
   "outputs": [
    {
     "name": "stdout",
     "output_type": "stream",
     "text": [
      "[3. 0.]\n",
      "[0. 4.]\n"
     ]
    }
   ],
   "source": [
    "# Orthogonal decomposition\n",
    "u = np.array([3, 4])\n",
    "v = np.array([1, 0])\n",
    "\n",
    "parallel_component = (np.dot(u, v) / np.dot(v, v)) * v\n",
    "perpendicular_component = u - parallel_component\n",
    "print(parallel_component)\n",
    "print(perpendicular_component)"
   ]
  },
  {
   "cell_type": "code",
   "execution_count": 43,
   "id": "b594806d-9c17-498a-a7aa-43e8ffc17f46",
   "metadata": {},
   "outputs": [
    {
     "name": "stdout",
     "output_type": "stream",
     "text": [
      "[0 0]\n"
     ]
    }
   ],
   "source": [
    "## Othorgonality\n",
    "u = np.array([1, 0])\n",
    "v = np.array([0, 5])\n",
    "print(u * v)"
   ]
  },
  {
   "cell_type": "code",
   "execution_count": null,
   "id": "b264d4b1-de67-4544-8baf-8c223d2781f4",
   "metadata": {},
   "outputs": [],
   "source": []
  }
 ],
 "metadata": {
  "kernelspec": {
   "display_name": "Python 3 (ipykernel)",
   "language": "python",
   "name": "python3"
  },
  "language_info": {
   "codemirror_mode": {
    "name": "ipython",
    "version": 3
   },
   "file_extension": ".py",
   "mimetype": "text/x-python",
   "name": "python",
   "nbconvert_exporter": "python",
   "pygments_lexer": "ipython3",
   "version": "3.13.5"
  }
 },
 "nbformat": 4,
 "nbformat_minor": 5
}
