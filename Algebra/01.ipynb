{
 "cells": [
  {
   "cell_type": "code",
   "execution_count": 1,
   "id": "423f03f1-746d-4277-98d5-8e5ada085f92",
   "metadata": {},
   "outputs": [],
   "source": [
    "import numpy as np"
   ]
  },
  {
   "cell_type": "markdown",
   "id": "60160380-09b3-41cc-874c-de61ec7ef3ee",
   "metadata": {},
   "source": [
    "### unit vector"
   ]
  },
  {
   "cell_type": "code",
   "execution_count": 2,
   "id": "f960cbf8-29c4-4afc-9837-eb4d164eb58c",
   "metadata": {},
   "outputs": [
    {
     "name": "stdout",
     "output_type": "stream",
     "text": [
      "Magnitude: 5.0\n",
      "Unit vector: [0.6 0.8]\n"
     ]
    }
   ],
   "source": [
    "u = np.array([3, 4])\n",
    "\n",
    "magnitude = np.linalg.norm(u)\n",
    "\n",
    "unit_vector = u / magnitude\n",
    "print(\"Magnitude:\", magnitude)       \n",
    "print(\"Unit vector:\", unit_vector)"
   ]
  },
  {
   "cell_type": "code",
   "execution_count": 4,
   "id": "4f7b9adc-02f4-490d-989d-5b052f0e8e63",
   "metadata": {},
   "outputs": [
    {
     "data": {
      "text/plain": [
       "63.245553203367585"
      ]
     },
     "execution_count": 4,
     "metadata": {},
     "output_type": "execute_result"
    }
   ],
   "source": [
    "import math\n",
    "math.sqrt(4000)"
   ]
  },
  {
   "cell_type": "markdown",
   "id": "dde38d90-7b26-44e3-af80-b228d24dde24",
   "metadata": {},
   "source": [
    "### Truck velocity\n",
    "- Compute the magnitude (speed)\n",
    "- Compute the unit vector (direction)"
   ]
  },
  {
   "cell_type": "code",
   "execution_count": 26,
   "id": "a9763cf8-b685-45fa-9e00-41f401629391",
   "metadata": {},
   "outputs": [
    {
     "name": "stdout",
     "output_type": "stream",
     "text": [
      "Magnitude: 63.245553203367585\n",
      "Unit vector: [0.9486833  0.31622777]\n"
     ]
    }
   ],
   "source": [
    "u = np.array([60, 20])\n",
    "\n",
    "mag = np.linalg.norm(u)\n",
    "unit = u / mag\n",
    "\n",
    "print(\"Magnitude:\", mag)\n",
    "print(\"Unit vector:\", unit)"
   ]
  },
  {
   "cell_type": "markdown",
   "id": "f08e0bb9-c813-427b-a148-e29023af80ca",
   "metadata": {},
   "source": [
    "### Force on excavator arm\n",
    "- Find the magnitude of the force\n",
    "- Find the unit vector (direction of the force)"
   ]
  },
  {
   "cell_type": "code",
   "execution_count": 27,
   "id": "75046b96-3828-4222-b303-1a4a35938013",
   "metadata": {},
   "outputs": [
    {
     "name": "stdout",
     "output_type": "stream",
     "text": [
      "Magnitude: 11.357816691600547\n",
      "Unit vector: [ 0.88045091 -0.44022545  0.17609018]\n"
     ]
    }
   ],
   "source": [
    "u = np.array([10, -5, 2])\n",
    "\n",
    "mag = np.linalg.norm(u)\n",
    "unit = u / mag\n",
    "\n",
    "print(\"Magnitude:\", mag)\n",
    "print(\"Unit vector:\", unit)\n"
   ]
  },
  {
   "cell_type": "markdown",
   "id": "f77d51d3-13ab-4318-a39a-47b2b6ebd773",
   "metadata": {},
   "source": [
    "### worker pulling a cart\n",
    "- Compute magnitude\n",
    "- Compute unit vector"
   ]
  },
  {
   "cell_type": "code",
   "execution_count": 28,
   "id": "e116fc0e-d3f9-4c1b-9ba5-9f2e616e011c",
   "metadata": {},
   "outputs": [
    {
     "name": "stdout",
     "output_type": "stream",
     "text": [
      "Magnitude: 5.0\n",
      "Unit vector: [0.6 0.8]\n"
     ]
    }
   ],
   "source": [
    "u = np.array([3, 4])\n",
    "\n",
    "mag = np.linalg.norm(u)\n",
    "unit = u / mag\n",
    "\n",
    "print(\"Magnitude:\", mag)\n",
    "print(\"Unit vector:\", unit)"
   ]
  },
  {
   "cell_type": "markdown",
   "id": "45ee5a23-bfd5-4fa2-82ec-5485afa68d07",
   "metadata": {},
   "source": [
    "### Data science feature vector\n",
    "- Compute magnitude\n",
    "- Normalize to unit vector"
   ]
  },
  {
   "cell_type": "code",
   "execution_count": 29,
   "id": "88e7cb03-8971-4ea2-b8d8-bf28ac5bf233",
   "metadata": {},
   "outputs": [
    {
     "name": "stdout",
     "output_type": "stream",
     "text": [
      "Magnitude: 8.831760866327848\n",
      "Unit vector: [0.56613852 0.22645541 0.79259392]\n"
     ]
    }
   ],
   "source": [
    "u = np.array([5,2,7])\n",
    "\n",
    "mag = np.linalg.norm(u)\n",
    "unit = u / mag\n",
    "print(\"Magnitude:\", mag)\n",
    "print(\"Unit vector:\", unit)\n"
   ]
  },
  {
   "cell_type": "markdown",
   "id": "5b9f5ecd-b80f-4894-be87-5336c13b6746",
   "metadata": {},
   "source": [
    "### Crane load stability\n",
    "- Compute magnitude\n",
    "- Find unit vector"
   ]
  },
  {
   "cell_type": "code",
   "execution_count": 31,
   "id": "f0585beb-3f9f-4d92-913c-46b94d23838c",
   "metadata": {},
   "outputs": [
    {
     "name": "stdout",
     "output_type": "stream",
     "text": [
      "Magnitude: 21.213203435596427\n",
      "Unit vector: [ 0.56568542 -0.42426407  0.70710678]\n"
     ]
    }
   ],
   "source": [
    "u = np.array([12,-9,15])\n",
    "\n",
    "mag = np.linalg.norm(u)\n",
    "unit = u / mag\n",
    "\n",
    "print(\"Magnitude:\", mag)\n",
    "print(\"Unit vector:\", unit)"
   ]
  },
  {
   "cell_type": "markdown",
   "id": "baa8f639-4696-4982-a1d4-f3fc3140561e",
   "metadata": {},
   "source": [
    "### GPS drone path\n",
    "- Find displacement magnitude\n",
    "- Normalize to unit vector (direction only)"
   ]
  },
  {
   "cell_type": "code",
   "execution_count": 32,
   "id": "fd1806c9-65a0-487f-919f-304795b361ce",
   "metadata": {},
   "outputs": [
    {
     "name": "stdout",
     "output_type": "stream",
     "text": [
      "Magnitude: 15.264337522473747\n",
      "Unit vector: [ 0.78614614 -0.32756089  0.52409743]\n"
     ]
    }
   ],
   "source": [
    "u = np.array([12, -5, 8])\n",
    "\n",
    "mag = np.linalg.norm(u)\n",
    "unit = u / mag\n",
    "\n",
    "print(\"Magnitude:\", mag)\n",
    "print(\"Unit vector:\", unit)"
   ]
  },
  {
   "cell_type": "code",
   "execution_count": null,
   "id": "1e306970-60dd-4b5f-be05-e9c201d683d9",
   "metadata": {},
   "outputs": [],
   "source": []
  }
 ],
 "metadata": {
  "kernelspec": {
   "display_name": "Python 3 (ipykernel)",
   "language": "python",
   "name": "python3"
  },
  "language_info": {
   "codemirror_mode": {
    "name": "ipython",
    "version": 3
   },
   "file_extension": ".py",
   "mimetype": "text/x-python",
   "name": "python",
   "nbconvert_exporter": "python",
   "pygments_lexer": "ipython3",
   "version": "3.13.5"
  }
 },
 "nbformat": 4,
 "nbformat_minor": 5
}
